{
 "cells": [
  {
   "cell_type": "markdown",
   "metadata": {},
   "source": [
    "# Outline:\n",
    "\n",
    "  1. Introduction to Variables\n",
    "  2. Declaring and Assigning Variables\n",
    "  3. Naming Conventions\n",
    "  4. Understand Variables Types\n",
    "  5. Type Checking and Conversion\n",
    "  6. Dynamic Typing \n",
    "  7. Practical Examples and Common Errors"
   ]
  },
  {
   "cell_type": "markdown",
   "metadata": {},
   "source": [
    "## 1. Introduction to Variables: \n",
    "   A variable in Python is a symbolic name that is used to store data or values that can be referenced and manipulated within a program. Variables are created by assigning a value to a name using the assignment operator =. The value stored in a variable can be of various data types, such as integers, floats, strings, lists, dictionaries, or custom objects."
   ]
  },
  {
   "cell_type": "markdown",
   "metadata": {},
   "source": [
    "## 2. Declaring and Assigning Variables:"
   ]
  },
  {
   "cell_type": "code",
   "execution_count": 2,
   "metadata": {},
   "outputs": [
    {
     "name": "stdout",
     "output_type": "stream",
     "text": [
      "Age:  24\n",
      "Name:  John\n",
      "Height:  5.1\n",
      "Is Student:  True\n"
     ]
    }
   ],
   "source": [
    "age = 24\n",
    "name = \"John\"\n",
    "height = 5.1\n",
    "is_student = True\n",
    "\n",
    "print(\"Age: \", age)\n",
    "print(\"Name: \", name)\n",
    "print(\"Height: \", height)\n",
    "print(\"Is Student: \", is_student)"
   ]
  },
  {
   "cell_type": "markdown",
   "metadata": {},
   "source": [
    "## 3. Naming Conventions:\n",
    "\n",
    "Variable names should be descriptive and meaningful. They should follow the following naming conventions:\n",
    "   - they must start with a letter or an underscore '_' and contains letter,  numbers and underscores.\n",
    "   - they should not start with a number.\n",
    "   - Variable names are case-insensitive.\n",
    "   - they should not contain spaces or special characters other than underscores.\n",
    "   - they should not be keywords or built-in functions.\n",
    "   - they should not contain spaces or special characters other than underscores."
   ]
  },
  {
   "cell_type": "code",
   "execution_count": 3,
   "metadata": {},
   "outputs": [
    {
     "name": "stdout",
     "output_type": "stream",
     "text": [
      "Name:  Bella\n",
      "Name:  Kitten\n",
      "Raining:  True\n"
     ]
    }
   ],
   "source": [
    "name = \"Bella\"\n",
    "Name = \"Kitten\"\n",
    "is_raning = True\n",
    "\n",
    "print(\"Name: \", name)\n",
    "print(\"Name: \", Name)\n",
    "print(\"Raining: \", is_raning)"
   ]
  },
  {
   "cell_type": "code",
   "execution_count": 4,
   "metadata": {},
   "outputs": [
    {
     "name": "stdout",
     "output_type": "stream",
     "text": [
      "kitten\n"
     ]
    }
   ],
   "source": [
    "#cannot start with number: roof of concept\n",
    "name = \"kitten\"\n",
    "print(name)\n"
   ]
  },
  {
   "cell_type": "code",
   "execution_count": 5,
   "metadata": {},
   "outputs": [
    {
     "ename": "SyntaxError",
     "evalue": "cannot assign to expression here. Maybe you meant '==' instead of '='? (3188461074.py, line 2)",
     "output_type": "error",
     "traceback": [
      "\u001b[1;36m  Cell \u001b[1;32mIn[5], line 2\u001b[1;36m\u001b[0m\n\u001b[1;33m    hello-world = \"hello\"\u001b[0m\n\u001b[1;37m    ^\u001b[0m\n\u001b[1;31mSyntaxError\u001b[0m\u001b[1;31m:\u001b[0m cannot assign to expression here. Maybe you meant '==' instead of '='?\n"
     ]
    }
   ],
   "source": [
    "#cannont contain special characters and spaces other than underscores:\n",
    "hello-world = \"hello\"\n",
    "print(hello-world)"
   ]
  },
  {
   "cell_type": "markdown",
   "metadata": {},
   "source": [
    "### 4. Understand Variable types:\n",
    "Python is dynamically typed, type of a variable is determined at the run time.\n"
   ]
  },
  {
   "cell_type": "code",
   "execution_count": 6,
   "metadata": {},
   "outputs": [
    {
     "name": "stdout",
     "output_type": "stream",
     "text": [
      "<class 'int'>\n",
      "25 <class 'str'>\n"
     ]
    }
   ],
   "source": [
    "age = 25\n",
    "print(type(age))\n",
    "\n",
    "##type conversion\n",
    "age_str = str(age)\n",
    "print(age_str, type(age_str))"
   ]
  },
  {
   "cell_type": "code",
   "execution_count": 7,
   "metadata": {},
   "outputs": [
    {
     "name": "stdout",
     "output_type": "stream",
     "text": [
      "<class 'float'>\n",
      "5.2 <class 'str'>\n",
      "5 <class 'int'>\n"
     ]
    },
    {
     "ename": "ValueError",
     "evalue": "invalid literal for int() with base 10: '5.2'",
     "output_type": "error",
     "traceback": [
      "\u001b[1;31m---------------------------------------------------------------------------\u001b[0m",
      "\u001b[1;31mValueError\u001b[0m                                Traceback (most recent call last)",
      "Cell \u001b[1;32mIn[7], line 14\u001b[0m\n\u001b[0;32m     11\u001b[0m \u001b[38;5;28mprint\u001b[39m(height_int, \u001b[38;5;28mtype\u001b[39m(height_int))\n\u001b[0;32m     13\u001b[0m \u001b[38;5;66;03m##type conversion\u001b[39;00m\n\u001b[1;32m---> 14\u001b[0m height_int \u001b[38;5;241m=\u001b[39m \u001b[38;5;28;43mint\u001b[39;49m\u001b[43m(\u001b[49m\u001b[43mheight_str\u001b[49m\u001b[43m)\u001b[49m\n\u001b[0;32m     15\u001b[0m \u001b[38;5;28mprint\u001b[39m(height_int, \u001b[38;5;28mtype\u001b[39m(height_int))\n",
      "\u001b[1;31mValueError\u001b[0m: invalid literal for int() with base 10: '5.2'"
     ]
    }
   ],
   "source": [
    "height = 5.2\n",
    "print(type(height))\n",
    "\n",
    "##type conversion\n",
    "height_str = str(height)\n",
    "print(height_str, type(height_str))\n",
    "\n",
    "\n",
    "##type conversion from float to integer\n",
    "height_int =  int(height)\n",
    "print(height_int, type(height_int))\n",
    "\n",
    "##type conversion\n",
    "height_int = int(height_str)\n",
    "print(height_int, type(height_int))"
   ]
  },
  {
   "cell_type": "code",
   "execution_count": 8,
   "metadata": {},
   "outputs": [
    {
     "name": "stdout",
     "output_type": "stream",
     "text": [
      "<class 'str'>\n"
     ]
    }
   ],
   "source": [
    "gender = \"female\"\n",
    "print(type(gender))\n",
    "\n",
    "##cannot convert string into integer because it is not an integer and its a complete sentence."
   ]
  },
  {
   "cell_type": "code",
   "execution_count": 9,
   "metadata": {},
   "outputs": [
    {
     "name": "stdout",
     "output_type": "stream",
     "text": [
      "10 <class 'int'>\n",
      "Hello <class 'str'>\n",
      "12.6 <class 'float'>\n"
     ]
    }
   ],
   "source": [
    "##dynamic typing\n",
    "##Python allows the type of variable change as the program executes.\n",
    "var = 10\n",
    "print(var, type(var))\n",
    "\n",
    "var = \"Hello\"\n",
    "print(var, type(var))\n",
    "\n",
    "var = 12.6\n",
    "print(var, type(var))\n"
   ]
  },
  {
   "cell_type": "code",
   "execution_count": 11,
   "metadata": {},
   "outputs": [
    {
     "name": "stdout",
     "output_type": "stream",
     "text": [
      "Sum:  37.0\n",
      "Diff:  -13.0\n",
      "Product:  300.0\n",
      "Quotient:  0.48\n"
     ]
    }
   ],
   "source": [
    "##simple calculator\n",
    "\n",
    "num1 = float(input(\"Enter First number: \"))\n",
    "num2 = float(input(\"Enter second number: \"))\n",
    "\n",
    "sum = num1 + num2\n",
    "diff = num1 - num2\n",
    "product = num1 * num2\n",
    "quotient = num1 / num2\n",
    "\n",
    "print(\"Sum: \", sum)\n",
    "print(\"Diff: \", diff)\n",
    "print(\"Product: \", product)\n",
    "print(\"Quotient: \", quotient)\n"
   ]
  }
 ],
 "metadata": {
  "kernelspec": {
   "display_name": "Python 3",
   "language": "python",
   "name": "python3"
  },
  "language_info": {
   "codemirror_mode": {
    "name": "ipython",
    "version": 3
   },
   "file_extension": ".py",
   "mimetype": "text/x-python",
   "name": "python",
   "nbconvert_exporter": "python",
   "pygments_lexer": "ipython3",
   "version": "3.12.0"
  }
 },
 "nbformat": 4,
 "nbformat_minor": 2
}
