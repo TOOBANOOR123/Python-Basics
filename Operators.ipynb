{
 "cells": [
  {
   "cell_type": "code",
   "execution_count": null,
   "metadata": {},
   "outputs": [],
   "source": []
  },
  {
   "cell_type": "markdown",
   "metadata": {},
   "source": [
    "# Deep Dive into Operators"
   ]
  },
  {
   "cell_type": "markdown",
   "metadata": {},
   "source": [
    "## Outline:\n",
    "\n",
    " 1. Introduction to Operators\n",
    " 2. Arithmetic operators\n",
    "    - Addition\n",
    "    - Subtraction\n",
    "    - Multiplication\n",
    "    - Division\n",
    "    - Floor division\n",
    "    - Modulus\n",
    "    - Exponentiation\n",
    " 3. Comparison operators\n",
    "     - Equality\n",
    "     - Inequality\n",
    "     - Greater than\n",
    "     - Greater than or equal to\n",
    "     - Less than\n",
    "     - Less than or equal to\n",
    " 4. Logical operators\n",
    "     - AND\n",
    "     - OR\n",
    "     - NOT\n",
    " 5. Practical Examples annd Common Errors"
   ]
  },
  {
   "cell_type": "markdown",
   "metadata": {},
   "source": [
    "### 1. Introduction to Operators:\n",
    " \n",
    "Operators in Python are special symbols or keywords that are used to perform operations on variables and values. They are the backbone of any computation in programming, enabling everything from simple arithmetic to complex logical decisions."
   ]
  },
  {
   "cell_type": "markdown",
   "metadata": {},
   "source": [
    "### 2. Arithmetic operations:"
   ]
  },
  {
   "cell_type": "code",
   "execution_count": 1,
   "metadata": {},
   "outputs": [
    {
     "name": "stdout",
     "output_type": "stream",
     "text": [
      "Addition: 12\n",
      "Subtraction: 8\n",
      "Multiplication: 20\n",
      "Division: 5.0\n",
      "Floor Division:  5\n",
      "Modulus: 0\n",
      "Exponention:  8\n"
     ]
    }
   ],
   "source": [
    "a = 10\n",
    "b = 2\n",
    "\n",
    "add = a+b #Addition of two numbers\n",
    "sub = a-b #Subtraction of two numbers\n",
    "multiply = a*b #Multiplication of two numbers\n",
    "division = a/b #Division of two numbers\n",
    "Floor_Division = a//b #Floor of two numbers\n",
    "Modulus = a % b #Modulus of two numbers\n",
    "Exponent = a ^ b #Exponent of a of b\n",
    "\n",
    "print(\"Addition:\", add)\n",
    "print(\"Subtraction:\", sub)\n",
    "print(\"Multiplication:\", multiply)\n",
    "print(\"Division:\", division)\n",
    "print(\"Floor Division: \", Floor_Division)\n",
    "print(\"Modulus:\", Modulus)\n",
    "print(\"Exponention: \", Exponent)"
   ]
  },
  {
   "cell_type": "markdown",
   "metadata": {},
   "source": [
    "### 3. Comparisons Operators"
   ]
  },
  {
   "cell_type": "code",
   "execution_count": 2,
   "metadata": {},
   "outputs": [
    {
     "name": "stdout",
     "output_type": "stream",
     "text": [
      "Equality: False\n",
      "inequality: True\n",
      "greater: True\n",
      "lesser: False\n",
      "greater_equal: True\n",
      "lesser_equal: False\n"
     ]
    }
   ],
   "source": [
    "c = 17\n",
    "d = 10\n",
    "\n",
    "equality = c == d #Checks if c and d are equal\n",
    "inequality = c != d #Checks if c and d are not equal\n",
    "greater = c > d #Checks if c is greater than d or not.\n",
    "lesser = c < d #Checks if c is less than d or not.\n",
    "greater_equal = c >= d #Checks if c is greater than or qual to d or not.\n",
    "lesser_equal = c <= d #Checks if c is less than or equal to d or not.\n",
    "\n",
    "print(\"Equality:\", equality)\n",
    "print(\"inequality:\", inequality)\n",
    "print(\"greater:\", greater)\n",
    "print(\"lesser:\", lesser)\n",
    "print(\"greater_equal:\", greater_equal)\n",
    "print(\"lesser_equal:\", lesser_equal)"
   ]
  },
  {
   "cell_type": "markdown",
   "metadata": {},
   "source": [
    "### 4. Logical Operators:"
   ]
  },
  {
   "cell_type": "code",
   "execution_count": 3,
   "metadata": {},
   "outputs": [
    {
     "name": "stdout",
     "output_type": "stream",
     "text": [
      "and_Operation:  False\n",
      "or_operation:  True\n",
      "not_operation:  False\n"
     ]
    }
   ],
   "source": [
    "a = 10 \n",
    "b = 4\n",
    "c = 15\n",
    "d = 20\n",
    "\n",
    "and_operation = (a > b) and (c > d) #Checks if both a and c are greater than d.\n",
    "or_operation = (a < b) or (c < d) #Checks if both a and c are less than d.\n",
    "not_operation = not (a > b) #Checks if a is not greater than b.\n",
    "\n",
    "print(\"and_Operation: \", and_operation)\n",
    "print(\"or_operation: \", or_operation)\n",
    "print(\"not_operation: \", not_operation)"
   ]
  },
  {
   "cell_type": "markdown",
   "metadata": {},
   "source": []
  }
 ],
 "metadata": {
  "kernelspec": {
   "display_name": "Python 3",
   "language": "python",
   "name": "python3"
  },
  "language_info": {
   "codemirror_mode": {
    "name": "ipython",
    "version": 3
   },
   "file_extension": ".py",
   "mimetype": "text/x-python",
   "name": "python",
   "nbconvert_exporter": "python",
   "pygments_lexer": "ipython3",
   "version": "3.12.0"
  }
 },
 "nbformat": 4,
 "nbformat_minor": 2
}
